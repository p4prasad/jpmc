{
 "cells": [
  {
   "cell_type": "code",
   "execution_count": 0,
   "metadata": {
    "application/vnd.databricks.v1+cell": {
     "cellMetadata": {
      "byteLimit": 2048000,
      "rowLimit": 10000
     },
     "inputWidgets": {},
     "nuid": "a56d13c0-58e6-4088-8b50-b5dca823df88",
     "showTitle": true,
     "tableResultSettingsMap": {},
     "title": "Import Functions"
    }
   },
   "outputs": [],
   "source": [
    "from pyspark.sql.functions import *"
   ]
  },
  {
   "cell_type": "markdown",
   "metadata": {
    "application/vnd.databricks.v1+cell": {
     "cellMetadata": {
      "byteLimit": 2048000,
      "rowLimit": 10000
     },
     "inputWidgets": {},
     "nuid": "4ca592ba-2467-4337-a912-fc0771fb2470",
     "showTitle": false,
     "tableResultSettingsMap": {},
     "title": ""
    }
   },
   "source": []
  },
  {
   "cell_type": "code",
   "execution_count": 0,
   "metadata": {
    "application/vnd.databricks.v1+cell": {
     "cellMetadata": {
      "byteLimit": 2048000,
      "rowLimit": 10000
     },
     "inputWidgets": {},
     "nuid": "eb6bf584-ad29-4521-9066-ba3a378dedb7",
     "showTitle": true,
     "tableResultSettingsMap": {},
     "title": "Variable Creation"
    }
   },
   "outputs": [],
   "source": [
    "input_path=\"/Volumes/jpm/naval/formula1/circuits.csv\""
   ]
  },
  {
   "cell_type": "code",
   "execution_count": 0,
   "metadata": {
    "application/vnd.databricks.v1+cell": {
     "cellMetadata": {
      "byteLimit": 2048000,
      "rowLimit": 10000
     },
     "inputWidgets": {},
     "nuid": "f76f173d-edc2-4114-ba53-2d6e53277ec2",
     "showTitle": true,
     "tableResultSettingsMap": {},
     "title": "Creating Data Frame"
    }
   },
   "outputs": [],
   "source": [
    "df=spark.read.csv(f\"{input_path}\",header=True,inferSchema=True)"
   ]
  },
  {
   "cell_type": "code",
   "execution_count": 0,
   "metadata": {
    "application/vnd.databricks.v1+cell": {
     "cellMetadata": {
      "byteLimit": 2048000,
      "rowLimit": 10000
     },
     "inputWidgets": {},
     "nuid": "4430e38f-8b8c-4c4d-a25d-7b8a631b033f",
     "showTitle": true,
     "tableResultSettingsMap": {},
     "title": "Creating Columns using data frame"
    }
   },
   "outputs": [],
   "source": [
    "df = df.withColumn(\"alt\", df[\"alt\"].cast(\"integer\"))"
   ]
  },
  {
   "cell_type": "code",
   "execution_count": 0,
   "metadata": {
    "application/vnd.databricks.v1+cell": {
     "cellMetadata": {
      "byteLimit": 2048000,
      "rowLimit": 10000
     },
     "inputWidgets": {},
     "nuid": "ed593396-76db-4578-bf35-60606ab7a882",
     "showTitle": false,
     "tableResultSettingsMap": {},
     "title": ""
    }
   },
   "outputs": [],
   "source": [
    "df = df.withColumn(\"circuitId\", df[\"circuitId\"].cast(\"integer\"))\n",
    "df = df.withColumn(\"circuitRef\", df[\"circuitRef\"].cast(\"string\"))\n",
    "df = df.withColumn(\"name\", df[\"name\"].cast(\"string\"))"
   ]
  },
  {
   "cell_type": "code",
   "execution_count": 0,
   "metadata": {
    "application/vnd.databricks.v1+cell": {
     "cellMetadata": {
      "byteLimit": 2048000,
      "rowLimit": 10000
     },
     "inputWidgets": {},
     "nuid": "2339a277-b734-48e7-8b77-e1897bfb3a3b",
     "showTitle": false,
     "tableResultSettingsMap": {},
     "title": ""
    }
   },
   "outputs": [],
   "source": [
    "df=df.withColumn(\"location\", df[\"location\"].cast(\"string\"))\n",
    "df=df.withColumn(\"country\", df[\"country\"].cast(\"string\"))\n",
    "df=df.withColumn(\"lat\", df[\"lat\"].cast(\"double\"))\n",
    "df=df.withColumn(\"lng\", df[\"lng\"].cast(\"double\"))\n",
    "df=df.withColumn(\"alt\", df[\"alt\"].cast(\"integer\"))\n",
    "df=df.withColumn(\"url\", df[\"url\"].cast(\"string\"))\n"
   ]
  },
  {
   "cell_type": "code",
   "execution_count": 0,
   "metadata": {
    "application/vnd.databricks.v1+cell": {
     "cellMetadata": {
      "byteLimit": 2048000,
      "rowLimit": 10000
     },
     "inputWidgets": {},
     "nuid": "321bbd72-78e4-49cc-8366-4f4769b00a74",
     "showTitle": true,
     "tableResultSettingsMap": {},
     "title": "Rename Column names"
    }
   },
   "outputs": [],
   "source": [
    "df=df.withColumnsRenamed({\"circuitId\":\"circuit_id\", \"circuitRef\":\"circuit_ref\", \"name\":\"name\", \"location\":\"location\", \"country\":\"country\", \"lat\":\"latitude\", \"lng\":\"longitude\", \"alt\":\"altitude\", \"url\":\"url\"})"
   ]
  },
  {
   "cell_type": "code",
   "execution_count": 0,
   "metadata": {
    "application/vnd.databricks.v1+cell": {
     "cellMetadata": {
      "byteLimit": 2048000,
      "rowLimit": 10000
     },
     "inputWidgets": {},
     "nuid": "5064158b-a4e6-4d92-88d8-9c208cabd517",
     "showTitle": true,
     "tableResultSettingsMap": {},
     "title": "Dropping Columns"
    }
   },
   "outputs": [],
   "source": [
    "df=df.drop(\"url\")"
   ]
  },
  {
   "cell_type": "code",
   "execution_count": 0,
   "metadata": {
    "application/vnd.databricks.v1+cell": {
     "cellMetadata": {
      "byteLimit": 2048000,
      "rowLimit": 10000
     },
     "inputWidgets": {},
     "nuid": "3c1e4482-8664-4ef2-83de-f1999a2502a1",
     "showTitle": true,
     "tableResultSettingsMap": {},
     "title": "Creating New Columns with in a Data Frame"
    }
   },
   "outputs": [],
   "source": [
    "df = df.withColumn(\"ingestion_date\", current_timestamp())"
   ]
  },
  {
   "cell_type": "code",
   "execution_count": 0,
   "metadata": {
    "application/vnd.databricks.v1+cell": {
     "cellMetadata": {
      "byteLimit": 2048000,
      "rowLimit": 10000
     },
     "inputWidgets": {},
     "nuid": "239ff3ed-51fd-4188-9e6e-ef691491653c",
     "showTitle": true,
     "tableResultSettingsMap": {},
     "title": "To display the DataFrame"
    }
   },
   "outputs": [],
   "source": [
    "df.display()"
   ]
  },
  {
   "cell_type": "code",
   "execution_count": 0,
   "metadata": {
    "application/vnd.databricks.v1+cell": {
     "cellMetadata": {
      "byteLimit": 2048000,
      "implicitDf": true,
      "rowLimit": 10000
     },
     "inputWidgets": {},
     "nuid": "5098c240-cdbd-40fc-88ae-515476ffee62",
     "showTitle": false,
     "tableResultSettingsMap": {},
     "title": ""
    }
   },
   "outputs": [],
   "source": [
    "%sql\n",
    "use catalog jpm"
   ]
  },
  {
   "cell_type": "code",
   "execution_count": 0,
   "metadata": {
    "application/vnd.databricks.v1+cell": {
     "cellMetadata": {
      "byteLimit": 2048000,
      "implicitDf": true,
      "rowLimit": 10000
     },
     "inputWidgets": {},
     "nuid": "61c123e6-3366-47b6-afdd-143c2065fe2a",
     "showTitle": false,
     "tableResultSettingsMap": {},
     "title": ""
    }
   },
   "outputs": [],
   "source": [
    "%sql\n",
    "create schema if not exists Prasad;\n",
    "\n",
    "use schema Prasad;\n"
   ]
  },
  {
   "cell_type": "code",
   "execution_count": 0,
   "metadata": {
    "application/vnd.databricks.v1+cell": {
     "cellMetadata": {
      "byteLimit": 2048000,
      "rowLimit": 10000
     },
     "inputWidgets": {},
     "nuid": "a7ec7419-70b6-41bc-9d18-0fdab3b58b57",
     "showTitle": false,
     "tableResultSettingsMap": {},
     "title": ""
    }
   },
   "outputs": [],
   "source": [
    "df.write.mode(\"overwrite\").saveAsTable(\"jpm.Prasad.circuits\")"
   ]
  }
 ],
 "metadata": {
  "application/vnd.databricks.v1+notebook": {
   "computePreferences": null,
   "dashboards": [],
   "environmentMetadata": {
    "base_environment": "",
    "environment_version": "2"
   },
   "language": "python",
   "notebookMetadata": {
    "mostRecentlyExecutedCommandWithImplicitDF": {
     "commandId": 7728540746067791,
     "dataframes": [
      "_sqldf"
     ]
    },
    "pythonIndentUnit": 4
   },
   "notebookName": "circuits",
   "widgets": {}
  },
  "language_info": {
   "name": "python"
  }
 },
 "nbformat": 4,
 "nbformat_minor": 0
}
