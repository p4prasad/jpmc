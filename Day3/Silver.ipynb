{
 "cells": [
  {
   "cell_type": "code",
   "execution_count": 0,
   "metadata": {
    "application/vnd.databricks.v1+cell": {
     "cellMetadata": {
      "byteLimit": 2048000,
      "implicitDf": true,
      "rowLimit": 10000
     },
     "inputWidgets": {},
     "nuid": "3544cb03-7ebb-43e9-a716-011855187b4d",
     "showTitle": false,
     "tableResultSettingsMap": {},
     "title": ""
    }
   },
   "outputs": [],
   "source": [
    "%sql\n",
    "CREATE OR REPLACE TABLE jpm.naval_silver.silver_customer AS\n",
    "\n",
    "SELECT\n",
    "\n",
    "    cust_id,\n",
    "\n",
    "    name,\n",
    "\n",
    "    CAST(age AS INT) AS age,\n",
    "\n",
    "    gender,\n",
    "\n",
    "    birthday,\n",
    "\n",
    "    cast(zip as int) as zip,\n",
    "\n",
    "    REPLACE(city, '_', ' ') AS city\n",
    "\n",
    "FROM jpm.naval_bronze.customer_bronze;"
   ]
  },
  {
   "cell_type": "code",
   "execution_count": 0,
   "metadata": {
    "application/vnd.databricks.v1+cell": {
     "cellMetadata": {
      "byteLimit": 2048000,
      "implicitDf": true,
      "rowLimit": 10000
     },
     "inputWidgets": {},
     "nuid": "9473e1cd-820e-45cf-89cc-dab835ac2cd0",
     "showTitle": false,
     "tableResultSettingsMap": {},
     "title": ""
    }
   },
   "outputs": [],
   "source": [
    "%sql\n",
    "CREATE OR REPLACE TABLE jpm.naval_silver.silver_transaction AS\n",
    "\n",
    "SELECT DISTINCT\n",
    "\n",
    "    cust_id,\n",
    "\n",
    "    start_date,\n",
    "\n",
    "    end_date,\n",
    "\n",
    "    txn_id,\n",
    "\n",
    "    date,\n",
    "\n",
    "    year,\n",
    "\n",
    "    month,\n",
    "\n",
    "    day,\n",
    "\n",
    "    expense_type,\n",
    "\n",
    "    CAST(amt AS DECIMAL(10,2)) AS amt,\n",
    "\n",
    "    REPLACE(city, '_', ' ') AS city\n",
    "\n",
    "FROM jpm.naval_bronze.transaction_bronze;"
   ]
  }
 ],
 "metadata": {
  "application/vnd.databricks.v1+notebook": {
   "computePreferences": null,
   "dashboards": [],
   "environmentMetadata": {
    "base_environment": "",
    "environment_version": "2"
   },
   "language": "python",
   "notebookMetadata": {
    "mostRecentlyExecutedCommandWithImplicitDF": {
     "commandId": 6736544397469361,
     "dataframes": [
      "_sqldf"
     ]
    },
    "pythonIndentUnit": 4
   },
   "notebookName": "Silver",
   "widgets": {}
  },
  "language_info": {
   "name": "python"
  }
 },
 "nbformat": 4,
 "nbformat_minor": 0
}
